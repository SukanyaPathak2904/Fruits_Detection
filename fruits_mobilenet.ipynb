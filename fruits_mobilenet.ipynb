{
  "nbformat": 4,
  "nbformat_minor": 0,
  "metadata": {
    "colab": {
      "provenance": [],
      "mount_file_id": "1ZayrFvVJOHY-7YXrDU_nZXM4pZtUgdsE",
      "authorship_tag": "ABX9TyOSjB7Ap1ab/m/RGeVf1OCF",
      "include_colab_link": true
    },
    "kernelspec": {
      "name": "python3",
      "display_name": "Python 3"
    },
    "language_info": {
      "name": "python"
    }
  },
  "cells": [
    {
      "cell_type": "markdown",
      "metadata": {
        "id": "view-in-github",
        "colab_type": "text"
      },
      "source": [
        "<a href=\"https://colab.research.google.com/github/SukanyaPathak2904/Fruits_Detection/blob/main/fruits_mobilenet.ipynb\" target=\"_parent\"><img src=\"https://colab.research.google.com/assets/colab-badge.svg\" alt=\"Open In Colab\"/></a>"
      ]
    },
    {
      "cell_type": "code",
      "execution_count": null,
      "metadata": {
        "id": "8-9q39ZHhRna"
      },
      "outputs": [],
      "source": [
        "!pip install tensorflow-gpu"
      ]
    },
    {
      "cell_type": "code",
      "source": [
        "img_train =  \"/content/drive/MyDrive/Colab Notebooks/Fruitsmodel/training_new\"\n",
        "img_val =  \"/content/drive/MyDrive/Colab Notebooks/Fruitsmodel/test_new\"\n",
        "img_test = \"/content/drive/MyDrive/Colab Notebooks/Fruitsmodel/valid_new\""
      ],
      "metadata": {
        "id": "dsmpEyosiB8F"
      },
      "execution_count": null,
      "outputs": []
    },
    {
      "cell_type": "code",
      "source": [
        "from tensorflow import keras\n",
        "from keras.preprocessing import image\n",
        "from keras.preprocessing.image import ImageDataGenerator\n",
        "from keras.layers import Dense,Dropout,Flatten,Lambda,Input\n",
        "from keras.models import Sequential\n",
        "from glob import glob\n",
        "from keras.models import Model\n",
        "from keras.applications import mobilenet_v2\n",
        "import numpy as np\n",
        "import matplotlib.pyplot as plt\n",
        "import scipy as sp\n",
        "import pandas as pd\n",
        "from keras.preprocessing.image_dataset import image_dataset_from_directory\n",
        "from keras import preprocessing\n",
        "import tensorflow as tf\n",
        "tf.version"
      ],
      "metadata": {
        "id": "EBsKluOaphK-",
        "colab": {
          "base_uri": "https://localhost:8080/"
        },
        "outputId": "7c348713-6d00-4b58-f311-e0c279be16f1"
      },
      "execution_count": null,
      "outputs": [
        {
          "output_type": "execute_result",
          "data": {
            "text/plain": [
              "<module 'tensorflow._api.v2.version' from '/usr/local/lib/python3.7/dist-packages/tensorflow/_api/v2/version/__init__.py'>"
            ]
          },
          "metadata": {},
          "execution_count": 2
        }
      ]
    },
    {
      "cell_type": "code",
      "source": [
        "batch_size= 32\n",
        "image_height= 62\n",
        "image_width = 62"
      ],
      "metadata": {
        "id": "-qsnSZJhtMGr"
      },
      "execution_count": null,
      "outputs": []
    },
    {
      "cell_type": "code",
      "source": [
        "train_ds = keras.preprocessing.image_dataset_from_directory(img_train, seed= 123, image_size=(image_height,image_width), batch_size= batch_size)"
      ],
      "metadata": {
        "id": "76Z9BJHqtVm7",
        "colab": {
          "base_uri": "https://localhost:8080/"
        },
        "outputId": "a8816efd-c92e-45c3-a3db-f4318579a531"
      },
      "execution_count": null,
      "outputs": [
        {
          "output_type": "stream",
          "name": "stdout",
          "text": [
            "Found 4449 files belonging to 28 classes.\n"
          ]
        }
      ]
    },
    {
      "cell_type": "code",
      "source": [
        "val_ds= keras.preprocessing.image_dataset_from_directory(img_val, seed= 123, image_size=(image_height,image_width), batch_size= batch_size)"
      ],
      "metadata": {
        "colab": {
          "base_uri": "https://localhost:8080/"
        },
        "id": "YF7BK1OTTXYR",
        "outputId": "73474f86-44fb-442f-8666-faf85e1b5b78"
      },
      "execution_count": null,
      "outputs": [
        {
          "output_type": "stream",
          "name": "stdout",
          "text": [
            "Found 2734 files belonging to 28 classes.\n"
          ]
        }
      ]
    },
    {
      "cell_type": "code",
      "source": [
        "test_ds = keras.preprocessing.image_dataset_from_directory(img_test,batch_size= batch_size,image_size=(image_width, image_height), seed = 123)"
      ],
      "metadata": {
        "colab": {
          "base_uri": "https://localhost:8080/"
        },
        "id": "btcSj_JUr23j",
        "outputId": "aab935d7-8b92-453a-818e-d9e80ba5800c"
      },
      "execution_count": null,
      "outputs": [
        {
          "output_type": "stream",
          "name": "stdout",
          "text": [
            "Found 483 files belonging to 28 classes.\n"
          ]
        }
      ]
    },
    {
      "cell_type": "code",
      "source": [
        "classnames= train_ds.class_names"
      ],
      "metadata": {
        "id": "bBA9UVVPu0sB"
      },
      "execution_count": null,
      "outputs": []
    },
    {
      "cell_type": "code",
      "source": [
        "classnames"
      ],
      "metadata": {
        "colab": {
          "base_uri": "https://localhost:8080/"
        },
        "id": "b0hGwrh3TZ6w",
        "outputId": "f9402659-4aae-4d4c-ee4d-0239b29fb1f8"
      },
      "execution_count": null,
      "outputs": [
        {
          "output_type": "execute_result",
          "data": {
            "text/plain": [
              "['Apple Braeburn',\n",
              " 'Apricot',\n",
              " 'Avocado',\n",
              " 'Banana',\n",
              " 'Banana Lady Finger',\n",
              " 'Banana Red',\n",
              " 'Cactus fruit',\n",
              " 'Cantaloupe 1',\n",
              " 'Cantaloupe 2',\n",
              " 'Dates',\n",
              " 'Eggplant',\n",
              " 'Fig',\n",
              " 'Ginger Root',\n",
              " 'Granadilla',\n",
              " 'Grape Blue',\n",
              " 'Hazelnut',\n",
              " 'Huckleberry',\n",
              " 'Kaki',\n",
              " 'Kiwi',\n",
              " 'Kohlrabi',\n",
              " 'Lemon',\n",
              " 'Lemon Meyer',\n",
              " 'Limes',\n",
              " 'Mandarine',\n",
              " 'Mango',\n",
              " 'Mango Red',\n",
              " 'Nectarine',\n",
              " 'Nectarine Flat']"
            ]
          },
          "metadata": {},
          "execution_count": 8
        }
      ]
    },
    {
      "cell_type": "code",
      "source": [
        "base_model= keras.applications.MobileNetV2(input_shape=(image_width, image_height, 3),\n",
        "                                            include_top=False,\n",
        "                                            weights='imagenet')\n",
        "base_model.trainable = False"
      ],
      "metadata": {
        "id": "zuykj1UIv13o",
        "colab": {
          "base_uri": "https://localhost:8080/"
        },
        "outputId": "9ede75d7-a194-49b7-d1ec-fa931b71cd75"
      },
      "execution_count": null,
      "outputs": [
        {
          "output_type": "stream",
          "name": "stdout",
          "text": [
            "WARNING:tensorflow:`input_shape` is undefined or non-square, or `rows` is not in [96, 128, 160, 192, 224]. Weights for input shape (224, 224) will be loaded as the default.\n"
          ]
        }
      ]
    },
    {
      "cell_type": "code",
      "source": [
        "data_augmentation= keras.models.Sequential([\n",
        "keras.layers.RandomFlip('horizontal'),\n",
        "keras.layers.RandomRotation(0.2) ])\n"
      ],
      "metadata": {
        "id": "6qrvtZ8x7_3z"
      },
      "execution_count": null,
      "outputs": []
    },
    {
      "cell_type": "code",
      "source": [
        "num_class= len(classnames)"
      ],
      "metadata": {
        "id": "P2jkMISD8AkL"
      },
      "execution_count": null,
      "outputs": []
    },
    {
      "cell_type": "code",
      "source": [
        "num_class"
      ],
      "metadata": {
        "colab": {
          "base_uri": "https://localhost:8080/"
        },
        "id": "H11xmyIntjpw",
        "outputId": "901cbbca-e2ea-48c4-991d-701c806fd9d3"
      },
      "execution_count": null,
      "outputs": [
        {
          "output_type": "execute_result",
          "data": {
            "text/plain": [
              "28"
            ]
          },
          "metadata": {},
          "execution_count": 10
        }
      ]
    },
    {
      "cell_type": "code",
      "source": [
        "inputs = keras.Input(shape= (image_width, image_height, 3))\n",
        "#x= data_augmentation(inputs)\n",
        "x= keras.applications.mobilenet_v2.preprocess_input(inputs)\n",
        "x= base_model(x, training= False)\n",
        "x= keras.layers.GlobalAveragePooling2D()(x)\n",
        "x= keras.layers.Dropout(0.2)(x)\n",
        "#x= keras.layers.Dense(64, activation ='relu')(x)\n",
        "#x = keras.layers.Dropout(0.2)(x)\n",
        "\n",
        "outputs= keras.layers.Dense(num_class, activation = 'softmax')(x)\n",
        "model = keras.Model(inputs, outputs)"
      ],
      "metadata": {
        "id": "GY5JfPbrCRIo"
      },
      "execution_count": null,
      "outputs": []
    },
    {
      "cell_type": "code",
      "source": [
        "inputs"
      ],
      "metadata": {
        "colab": {
          "base_uri": "https://localhost:8080/"
        },
        "id": "a-oMLXxDABqY",
        "outputId": "a48028c5-50c1-4246-c981-5b2349e287cf"
      },
      "execution_count": null,
      "outputs": [
        {
          "output_type": "execute_result",
          "data": {
            "text/plain": [
              "<KerasTensor: shape=(None, 62, 62, 3) dtype=float32 (created by layer 'input_3')>"
            ]
          },
          "metadata": {},
          "execution_count": 21
        }
      ]
    },
    {
      "cell_type": "code",
      "source": [
        "output = keras.layers.Dense(num_class,activation= 'softmax')(x)\n",
        "model = keras.Model(inputs, output)"
      ],
      "metadata": {
        "id": "p7k1sjV6Wf2l"
      },
      "execution_count": null,
      "outputs": []
    },
    {
      "cell_type": "code",
      "source": [
        "model.compile(optimizer= 'adam', loss= 'sparse_categorical_crossentropy', metrics = ['accuracy'])"
      ],
      "metadata": {
        "id": "OpaZnPFnXHSE"
      },
      "execution_count": null,
      "outputs": []
    },
    {
      "cell_type": "code",
      "source": [
        "initial_epochs = 5\n",
        "early_stop = keras.callbacks.EarlyStopping(patience=1, restore_best_weights=True)\n",
        "history  = model.fit(train_ds,validation_data = test_ds, epochs= initial_epochs, callbacks= [early_stop])"
      ],
      "metadata": {
        "id": "TyO_BqH1XLkr",
        "colab": {
          "base_uri": "https://localhost:8080/"
        },
        "outputId": "4e0e69d7-4dd2-42f1-e121-5b7b5d2207cf"
      },
      "execution_count": null,
      "outputs": [
        {
          "output_type": "stream",
          "name": "stdout",
          "text": [
            "Epoch 1/5\n",
            "140/140 [==============================] - 26s 160ms/step - loss: 0.5892 - accuracy: 0.8660 - val_loss: 0.6232 - val_accuracy: 0.7971\n",
            "Epoch 2/5\n",
            "140/140 [==============================] - 24s 166ms/step - loss: 0.0254 - accuracy: 0.9955 - val_loss: 0.6042 - val_accuracy: 0.8199\n",
            "Epoch 3/5\n",
            "140/140 [==============================] - 23s 161ms/step - loss: 0.0100 - accuracy: 0.9991 - val_loss: 0.5735 - val_accuracy: 0.8282\n",
            "Epoch 4/5\n",
            "140/140 [==============================] - 23s 159ms/step - loss: 0.0088 - accuracy: 0.9989 - val_loss: 0.5643 - val_accuracy: 0.8447\n",
            "Epoch 5/5\n",
            "140/140 [==============================] - 22s 154ms/step - loss: 0.0036 - accuracy: 1.0000 - val_loss: 0.5719 - val_accuracy: 0.8468\n"
          ]
        }
      ]
    },
    {
      "cell_type": "code",
      "source": [
        "print(len(base_model.layers))"
      ],
      "metadata": {
        "colab": {
          "base_uri": "https://localhost:8080/"
        },
        "id": "4o_Xgncb1-6K",
        "outputId": "0fcdf625-0b82-4843-8216-029ba177974a"
      },
      "execution_count": null,
      "outputs": [
        {
          "output_type": "stream",
          "name": "stdout",
          "text": [
            "154\n"
          ]
        }
      ]
    },
    {
      "cell_type": "code",
      "source": [
        "initial_epochs = len(history.history['accuracy'])\n",
        "initial_epochs"
      ],
      "metadata": {
        "colab": {
          "base_uri": "https://localhost:8080/"
        },
        "id": "xHWTb35Z2NaZ",
        "outputId": "348b6c2d-1241-4dd0-c245-96be0e6aa501"
      },
      "execution_count": null,
      "outputs": [
        {
          "output_type": "execute_result",
          "data": {
            "text/plain": [
              "5"
            ]
          },
          "metadata": {},
          "execution_count": 16
        }
      ]
    },
    {
      "cell_type": "code",
      "source": [
        "base_model.trainable = True\n",
        "\n",
        "# len(base_model.layers) -> 154 layers in base_model\n",
        "# Fine-tune from this layer onwards\n",
        "fine_tune_at = 110\n",
        "\n",
        "# Freeze all the layers before the `fine_tune_at` layer\n",
        "for layer in base_model.layers[:fine_tune_at]:\n",
        "    layer.trainable =  False"
      ],
      "metadata": {
        "id": "4wxAWg9939B_"
      },
      "execution_count": null,
      "outputs": []
    },
    {
      "cell_type": "code",
      "source": [
        "base_learning_rate = 0.0001\n",
        "model.compile(loss='sparse_categorical_crossentropy',\n",
        "              optimizer=keras.optimizers.RMSprop(lr=base_learning_rate/10),# use low LR to avoid overfit\n",
        "              metrics=['accuracy'])\n",
        "\n",
        "model.summary()\n"
      ],
      "metadata": {
        "colab": {
          "base_uri": "https://localhost:8080/"
        },
        "id": "vjucQ16l4FIx",
        "outputId": "a881b2f8-a986-47e4-ba50-8dca6ed11330"
      },
      "execution_count": null,
      "outputs": [
        {
          "output_type": "stream",
          "name": "stderr",
          "text": [
            "/usr/local/lib/python3.7/dist-packages/keras/optimizer_v2/rmsprop.py:130: UserWarning: The `lr` argument is deprecated, use `learning_rate` instead.\n",
            "  super(RMSprop, self).__init__(name, **kwargs)\n"
          ]
        },
        {
          "output_type": "stream",
          "name": "stdout",
          "text": [
            "Model: \"model_1\"\n",
            "_________________________________________________________________\n",
            " Layer (type)                Output Shape              Param #   \n",
            "=================================================================\n",
            " input_2 (InputLayer)        [(None, 62, 62, 3)]       0         \n",
            "                                                                 \n",
            " tf.math.truediv (TFOpLambda  (None, 62, 62, 3)        0         \n",
            " )                                                               \n",
            "                                                                 \n",
            " tf.math.subtract (TFOpLambd  (None, 62, 62, 3)        0         \n",
            " a)                                                              \n",
            "                                                                 \n",
            " mobilenetv2_1.00_224 (Funct  (None, 2, 2, 1280)       2257984   \n",
            " ional)                                                          \n",
            "                                                                 \n",
            " global_average_pooling2d (G  (None, 1280)             0         \n",
            " lobalAveragePooling2D)                                          \n",
            "                                                                 \n",
            " dropout (Dropout)           (None, 1280)              0         \n",
            "                                                                 \n",
            " dense_1 (Dense)             (None, 28)                35868     \n",
            "                                                                 \n",
            "=================================================================\n",
            "Total params: 2,293,852\n",
            "Trainable params: 35,868\n",
            "Non-trainable params: 2,257,984\n",
            "_________________________________________________________________\n"
          ]
        }
      ]
    },
    {
      "cell_type": "code",
      "source": [
        "#fine_tune_epochs = 1\n",
        "#total_epochs = initial_epochs + fine_tune_epochs\n",
        "\n",
        "early_stop = keras.callbacks.EarlyStopping(patience=1, restore_best_weights=True)\n",
        "\n",
        "history_fine = model.fit(train_ds,\n",
        "                         epochs=1,\n",
        "                        validation_data= val_ds,\n",
        "                         callbacks=[early_stop])"
      ],
      "metadata": {
        "colab": {
          "base_uri": "https://localhost:8080/"
        },
        "id": "EARo1ANX4KUx",
        "outputId": "1144cfde-ddb4-4f6e-f168-7fa674fb83d0"
      },
      "execution_count": null,
      "outputs": [
        {
          "output_type": "stream",
          "name": "stdout",
          "text": [
            "140/140 [==============================] - 36s 235ms/step - loss: 0.0048 - accuracy: 0.9996 - val_loss: 0.3416 - val_accuracy: 0.9148\n"
          ]
        }
      ]
    },
    {
      "cell_type": "code",
      "source": [
        "history_fine = model.fit(train_ds,\n",
        "                         epochs=2,\n",
        "                         initial_epoch=history.epoch[-1],\n",
        "                         validation_data= val_ds,\n",
        "                         callbacks=[early_stop])"
      ],
      "metadata": {
        "id": "xWsStWoJ4QmZ"
      },
      "execution_count": null,
      "outputs": []
    },
    {
      "cell_type": "code",
      "source": [
        "plt.plot(history_fine['accuracy'], label='train acc')\n",
        "plt.plot(history_fine['val_accuracy'], label='val acc')\n",
        "plt.legend()\n",
        "plt.show()"
      ],
      "metadata": {
        "id": "dRuJ2ZPa5Gbx"
      },
      "execution_count": null,
      "outputs": []
    },
    {
      "cell_type": "code",
      "source": [
        "model.evaluate(test_ds)"
      ],
      "metadata": {
        "colab": {
          "base_uri": "https://localhost:8080/"
        },
        "id": "SymyRW1o68k5",
        "outputId": "9abca624-0f2e-4557-97de-ee374eaa7ac2"
      },
      "execution_count": null,
      "outputs": [
        {
          "output_type": "stream",
          "name": "stdout",
          "text": [
            "16/16 [==============================] - 2s 118ms/step - loss: 0.5625 - accuracy: 0.8468\n"
          ]
        },
        {
          "output_type": "execute_result",
          "data": {
            "text/plain": [
              "[0.5624540448188782, 0.8467909097671509]"
            ]
          },
          "metadata": {},
          "execution_count": 26
        }
      ]
    },
    {
      "cell_type": "code",
      "source": [
        "acc = history.history['accuracy']\n",
        "val_acc = history.history['val_accuracy']\n",
        "\n",
        "loss = history.history['loss']\n",
        "val_loss = history.history['val_loss']\n",
        "\n",
        "plt.figure(figsize=(8, 8))\n",
        "plt.subplot(2, 1, 1)\n",
        "plt.plot(acc, label='Training Accuracy')\n",
        "plt.plot(val_acc, label='Validation Accuracy')\n",
        "plt.legend(loc='lower right')\n",
        "plt.ylabel('Accuracy')\n",
        "plt.ylim([min(plt.ylim()),1])\n",
        "plt.title('Training and Validation Accuracy')\n",
        "\n",
        "plt.subplot(2, 1, 2)\n",
        "plt.plot(loss, label='Training Loss')\n",
        "plt.plot(val_loss, label='Validation Loss')\n",
        "plt.legend(loc='upper right')\n",
        "plt.ylabel('Cross Entropy')\n",
        "plt.ylim([0,1.0])\n",
        "plt.title('Training and Validation Loss')\n",
        "plt.xlabel('epoch')\n",
        "plt.show()"
      ],
      "metadata": {
        "colab": {
          "base_uri": "https://localhost:8080/",
          "height": 513
        },
        "id": "Uz6FSZjs9SA5",
        "outputId": "c5935841-46d6-4a26-cd52-b0f3b1d41a2c"
      },
      "execution_count": null,
      "outputs": [
        {
          "output_type": "display_data",
          "data": {
            "image/png": "[encoded data removed]",
            "text/plain": [
              "<Figure size 576x576 with 2 Axes>"
            ]
          },
          "metadata": {
            "needs_background": "light"
          }
        }
      ]
    },
    {
      "cell_type": "code",
      "source": [
        "import tensorflow as tf\n",
        "from keras.models import load_model\n",
        "model.save('fruitsmodel_mobilenet.h5')"
      ],
      "metadata": {
        "id": "Lz1neuvP9pgW",
        "colab": {
          "base_uri": "https://localhost:8080/"
        },
        "outputId": "e45ad6e1-99c5-4813-f6ad-3649237cf48e"
      },
      "execution_count": null,
      "outputs": [
        {
          "output_type": "stream",
          "name": "stderr",
          "text": [
            "/usr/local/lib/python3.7/dist-packages/keras/engine/functional.py:1410: CustomMaskWarning: Custom mask layers require a config and must override get_config. When loading, the custom mask layer must be passed to the custom_objects argument.\n",
            "  layer_config = serialize_layer_fn(layer)\n"
          ]
        }
      ]
    },
    {
      "cell_type": "code",
      "source": [
        "checkk = load_model('fruitsmodel_mobilenet.h5')\n",
        "new_img = \"/content/Untitled Folder\"\n",
        "option."
      ],
      "metadata": {
        "id": "_vhrXth1ta_Z"
      },
      "execution_count": null,
      "outputs": []
    },
    {
      "cell_type": "code",
      "source": [
        "check.option(fruitsmodel_mobilenet.h5)"
      ],
      "metadata": {
        "id": "ptv7lLRA-GUw"
      },
      "execution_count": null,
      "outputs": []
    },
    {
      "cell_type": "code",
      "source": [
        "from matplotlib.rcsetup import validate_font_properties\n",
        "sgvv_ghe = jjfcd.gjjderc(gdbbvhuty)\n",
        "vbbnx=  dffuif+vghtyf\n",
        "validate_font_properties()\n"
      ],
      "metadata": {
        "id": "Zdc-NDRt-MhI"
      },
      "execution_count": null,
      "outputs": []
    }
  ]
}